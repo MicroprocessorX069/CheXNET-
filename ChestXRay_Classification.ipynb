{
  "nbformat": 4,
  "nbformat_minor": 0,
  "metadata": {
    "colab": {
      "name": "ChestXRay Classification",
      "version": "0.3.2",
      "provenance": [],
      "collapsed_sections": [],
      "include_colab_link": true
    },
    "kernelspec": {
      "name": "python3",
      "display_name": "Python 3"
    },
    "accelerator": "GPU"
  },
  "cells": [
    {
      "cell_type": "markdown",
      "metadata": {
        "id": "view-in-github",
        "colab_type": "text"
      },
      "source": [
        "<a href=\"https://colab.research.google.com/github/MicroprocessorX069/CheXNET-/blob/master/ChestXRay_Classification.ipynb\" target=\"_parent\"><img src=\"https://colab.research.google.com/assets/colab-badge.svg\" alt=\"Open In Colab\"/></a>"
      ]
    },
    {
      "metadata": {
        "id": "GwIn-U7FAWAS",
        "colab_type": "code",
        "outputId": "8927303b-5142-4212-9dd0-01c650f7a564",
        "colab": {
          "base_uri": "https://localhost:8080/",
          "height": 122
        }
      },
      "cell_type": "code",
      "source": [
        "from google.colab import drive\n",
        "drive.mount('/content/drive/')\n"
      ],
      "execution_count": 1,
      "outputs": [
        {
          "output_type": "stream",
          "text": [
            "Go to this URL in a browser: https://accounts.google.com/o/oauth2/auth?client_id=947318989803-6bn6qk8qdgf4n4g3pfee6491hc0brc4i.apps.googleusercontent.com&redirect_uri=urn%3Aietf%3Awg%3Aoauth%3A2.0%3Aoob&scope=email%20https%3A%2F%2Fwww.googleapis.com%2Fauth%2Fdocs.test%20https%3A%2F%2Fwww.googleapis.com%2Fauth%2Fdrive%20https%3A%2F%2Fwww.googleapis.com%2Fauth%2Fdrive.photos.readonly%20https%3A%2F%2Fwww.googleapis.com%2Fauth%2Fpeopleapi.readonly&response_type=code\n",
            "\n",
            "Enter your authorization code:\n",
            "··········\n",
            "Mounted at /content/drive/\n"
          ],
          "name": "stdout"
        }
      ]
    },
    {
      "metadata": {
        "id": "n29t2tWPvTUV",
        "colab_type": "code",
        "colab": {}
      },
      "cell_type": "code",
      "source": [
        "import torch \n",
        "import torchvision\n",
        "import torch.nn as nn\n",
        "import numpy as np\n",
        "import torchvision.transforms as transforms\n",
        "import torchvision.datasets as datasets\n",
        "import os\n",
        "device=torch.device('cuda:0' if torch.cuda.is_available() else 'cpu')"
      ],
      "execution_count": 0,
      "outputs": []
    },
    {
      "metadata": {
        "id": "t8CDV56rFCGo",
        "colab_type": "code",
        "colab": {}
      },
      "cell_type": "code",
      "source": [
        "num_classes=2\n",
        "num_epochs=1\n",
        "batch_size=100\n",
        "learning_rate=0.1"
      ],
      "execution_count": 0,
      "outputs": []
    },
    {
      "metadata": {
        "id": "C8p_UHRFvsKm",
        "colab_type": "code",
        "colab": {}
      },
      "cell_type": "code",
      "source": [
        "def loadTrainData(data_dir,resize=(224,224)):\n",
        "  data_transforms={\n",
        "      'train': transforms.Compose([\n",
        "          transforms.RandomResizedCrop(max(resize)),\n",
        "          transforms.RandomHorizontalFlip(),\n",
        "          transforms.ToTensor(),\n",
        "          transforms.Normalize([0.485,0.486,0.406],[0.229,0.224,0.225])\n",
        "      ]),\n",
        "      'val': transforms.Compose([\n",
        "          transforms.RandomResizedCrop(max(resize)),\n",
        "          transforms.RandomHorizontalFlip(),\n",
        "          transforms.ToTensor(),\n",
        "          transforms.Normalize([0.485,0.486,0.406],[0.229,0.224,0.225])\n",
        "      ]),\n",
        "      'test': transforms.Compose([\n",
        "          transforms.RandomResizedCrop(max(resize)),\n",
        "          transforms.RandomHorizontalFlip(),\n",
        "          transforms.ToTensor(),\n",
        "          transforms.Normalize([0.485,0.486,0.406],[0.229,0.224,0.225])\n",
        "      ])\n",
        "      \n",
        "  }\n",
        "  dataset={x:datasets.ImageFolder(os.path.join(data_dir,x),data_transforms[x])\n",
        "          for x in ['train','test','val']}\n",
        "  dataset_loader={x:torch.utils.data.DataLoader(dataset[x],\n",
        "                                                batch_size=5,\n",
        "                                               shuffle=True)\n",
        "                 for x in ['train','test','val']}\n",
        "  dataset_size={x:len(dataset[x]) for x in ['train','test','val']}\n",
        "  dataset_classes=dataset['train'].classes\n",
        "  return dataset_loader['train'],dataset_loader['val'],dataset_loader['test']"
      ],
      "execution_count": 0,
      "outputs": []
    },
    {
      "metadata": {
        "id": "iDF8cKhsyrVn",
        "colab_type": "code",
        "colab": {}
      },
      "cell_type": "code",
      "source": [
        "data_dir=\"/content/drive/My Drive/Projects/Pneumonia detection/chest_xray/chest_xray/\"\n",
        "train_loader, val_loader,test_loader=loadTrainData(data_dir)"
      ],
      "execution_count": 0,
      "outputs": []
    },
    {
      "metadata": {
        "id": "zb3fb1aiCAVE",
        "colab_type": "text"
      },
      "cell_type": "markdown",
      "source": [
        "##Model"
      ]
    },
    {
      "metadata": {
        "id": "nzSNNEYnzVkt",
        "colab_type": "code",
        "colab": {}
      },
      "cell_type": "code",
      "source": [
        "class DenseNet121(nn.Module):\n",
        "  def __init__(self,out_size):\n",
        "    super(DenseNet121,self).__init__()\n",
        "    self.densenet121=torchvision.models.densenet121()\n",
        "    num_features=self.densenet121.classifier.in_features\n",
        "    self.densenet121.classifier=nn.Sequential(\n",
        "    nn.Linear(num_features,out_size),\n",
        "    nn.Sigmoid())\n",
        "  def forward(self,x):\n",
        "    x=self.densenet121(x)\n",
        "    return x\n",
        "\n",
        "model=DenseNet121(num_classes).to(device)"
      ],
      "execution_count": 0,
      "outputs": []
    },
    {
      "metadata": {
        "id": "P8NbyzgmFvGU",
        "colab_type": "code",
        "colab": {}
      },
      "cell_type": "code",
      "source": [
        "criterion=nn.CrossEntropyLoss()\n",
        "optimizer=torch.optim.Adam(model.parameters(),lr=learning_rate)\n"
      ],
      "execution_count": 0,
      "outputs": []
    },
    {
      "metadata": {
        "id": "21exIu-HGkMO",
        "colab_type": "code",
        "colab": {
          "base_uri": "https://localhost:8080/",
          "height": 187
        },
        "outputId": "4da46f0d-d6d0-44fa-ec98-9d1f3f420e51"
      },
      "cell_type": "code",
      "source": [
        "total_step=len(train_loader)\n",
        "for epoch in range(num_epochs):\n",
        "  for i,(images,labels) in enumerate(train_loader):\n",
        "    images=images.to(device)\n",
        "    labels=labels.to(device)\n",
        "    \n",
        "    outputs=model(images)\n",
        "    loss=criterion(outputs,labels)\n",
        "    \n",
        "    optimizer.zero_grad()\n",
        "    loss.backward()\n",
        "    optimizer.step()\n",
        "    \n",
        "    if(i+1)%100==0:\n",
        "      print ('Epoch [{}/{}], Step [{}/{}], Loss: {:.4f}' \n",
        "        .format(epoch+1, num_epochs, i+1, total_step, loss.item()))"
      ],
      "execution_count": 45,
      "outputs": [
        {
          "output_type": "stream",
          "text": [
            "Epoch [1/1], Step [100/1044], Loss: 0.5133\n",
            "Epoch [1/1], Step [200/1044], Loss: 0.7133\n",
            "Epoch [1/1], Step [300/1044], Loss: 0.5133\n",
            "Epoch [1/1], Step [400/1044], Loss: 0.3133\n",
            "Epoch [1/1], Step [500/1044], Loss: 0.9133\n",
            "Epoch [1/1], Step [600/1044], Loss: 0.7133\n",
            "Epoch [1/1], Step [700/1044], Loss: 0.5133\n",
            "Epoch [1/1], Step [800/1044], Loss: 0.7133\n",
            "Epoch [1/1], Step [900/1044], Loss: 0.5133\n",
            "Epoch [1/1], Step [1000/1044], Loss: 0.5133\n"
          ],
          "name": "stdout"
        }
      ]
    }
  ]
}